{
  "nbformat": 4,
  "nbformat_minor": 0,
  "metadata": {
    "colab": {
      "name": "8. 순환 신경망",
      "provenance": [],
      "collapsed_sections": [],
      "authorship_tag": "ABX9TyOfYZ4DejSbz5Zlv6aZBuw2"
    },
    "kernelspec": {
      "name": "python3",
      "display_name": "Python 3"
    },
    "language_info": {
      "name": "python"
    }
  },
  "cells": [
    {
      "cell_type": "markdown",
      "source": [
        "# 1) 순환 신경망\n",
        "## 2. 케라스로 RNN 구현하기"
      ],
      "metadata": {
        "id": "6iMg4E4Wt2av"
      }
    },
    {
      "cell_type": "code",
      "execution_count": 7,
      "metadata": {
        "colab": {
          "base_uri": "https://localhost:8080/",
          "height": 210
        },
        "id": "rIvIJR4QtzfK",
        "outputId": "592ca820-544a-4b5f-805a-1961c97dffc9"
      },
      "outputs": [
        {
          "output_type": "error",
          "ename": "NameError",
          "evalue": "ignored",
          "traceback": [
            "\u001b[0;31m---------------------------------------------------------------------------\u001b[0m",
            "\u001b[0;31mNameError\u001b[0m                                 Traceback (most recent call last)",
            "\u001b[0;32m<ipython-input-7-741e5ebe1c13>\u001b[0m in \u001b[0;36m<module>\u001b[0;34m()\u001b[0m\n\u001b[1;32m      5\u001b[0m \u001b[0mmodel\u001b[0m \u001b[0;34m=\u001b[0m \u001b[0mSequential\u001b[0m\u001b[0;34m(\u001b[0m\u001b[0;34m)\u001b[0m\u001b[0;34m\u001b[0m\u001b[0;34m\u001b[0m\u001b[0m\n\u001b[1;32m      6\u001b[0m \u001b[0;34m\u001b[0m\u001b[0m\n\u001b[0;32m----> 7\u001b[0;31m \u001b[0mmodel\u001b[0m\u001b[0;34m.\u001b[0m\u001b[0madd\u001b[0m\u001b[0;34m(\u001b[0m\u001b[0mSimpleRNN\u001b[0m\u001b[0;34m(\u001b[0m\u001b[0mhidden_units\u001b[0m\u001b[0;34m)\u001b[0m\u001b[0;34m)\u001b[0m\u001b[0;34m\u001b[0m\u001b[0;34m\u001b[0m\u001b[0m\n\u001b[0m",
            "\u001b[0;31mNameError\u001b[0m: name 'hidden_units' is not defined"
          ]
        }
      ],
      "source": [
        "from tensorflow.keras.layers import SimpleRNN\n",
        "\n",
        "# 책에선 없지만 없으면 model 안됨\n",
        "from tensorflow.keras.models import Sequential\n",
        "model = Sequential()\n",
        "\n",
        "model.add(SimpleRNN(hidden_units))"
      ]
    },
    {
      "cell_type": "code",
      "source": [
        "# 추가 인자를 사용할 때\n",
        "model.add(SimpleRNN(hidden_units, input_shape=(timesteps, input_dim)))\n",
        "\n",
        "# 다른 표기\n",
        "model.add(SimpleRNN(hidden_units, input_length=M, input_dim=N))"
      ],
      "metadata": {
        "colab": {
          "base_uri": "https://localhost:8080/",
          "height": 247
        },
        "id": "3g7jIOPpuCMK",
        "outputId": "10c351d4-cdee-437d-ad4d-4c2bd7073f88"
      },
      "execution_count": 8,
      "outputs": [
        {
          "output_type": "error",
          "ename": "NameError",
          "evalue": "ignored",
          "traceback": [
            "\u001b[0;31m---------------------------------------------------------------------------\u001b[0m",
            "\u001b[0;31mNameError\u001b[0m                                 Traceback (most recent call last)",
            "\u001b[0;32m<ipython-input-8-887ced775d13>\u001b[0m in \u001b[0;36m<module>\u001b[0;34m()\u001b[0m\n\u001b[1;32m      1\u001b[0m \u001b[0;31m# 추가 인자를 사용할 때\u001b[0m\u001b[0;34m\u001b[0m\u001b[0;34m\u001b[0m\u001b[0;34m\u001b[0m\u001b[0m\n\u001b[0;32m----> 2\u001b[0;31m \u001b[0mmodel\u001b[0m\u001b[0;34m.\u001b[0m\u001b[0madd\u001b[0m\u001b[0;34m(\u001b[0m\u001b[0mSimpleRNN\u001b[0m\u001b[0;34m(\u001b[0m\u001b[0mhidden_units\u001b[0m\u001b[0;34m,\u001b[0m \u001b[0minput_shape\u001b[0m\u001b[0;34m=\u001b[0m\u001b[0;34m(\u001b[0m\u001b[0mtimesteps\u001b[0m\u001b[0;34m,\u001b[0m \u001b[0minput_dim\u001b[0m\u001b[0;34m)\u001b[0m\u001b[0;34m)\u001b[0m\u001b[0;34m)\u001b[0m\u001b[0;34m\u001b[0m\u001b[0;34m\u001b[0m\u001b[0m\n\u001b[0m\u001b[1;32m      3\u001b[0m \u001b[0;34m\u001b[0m\u001b[0m\n\u001b[1;32m      4\u001b[0m \u001b[0;31m# 다른 표기\u001b[0m\u001b[0;34m\u001b[0m\u001b[0;34m\u001b[0m\u001b[0;34m\u001b[0m\u001b[0m\n\u001b[1;32m      5\u001b[0m \u001b[0mmodel\u001b[0m\u001b[0;34m.\u001b[0m\u001b[0madd\u001b[0m\u001b[0;34m(\u001b[0m\u001b[0mSimpleRNN\u001b[0m\u001b[0;34m(\u001b[0m\u001b[0mhidden_units\u001b[0m\u001b[0;34m,\u001b[0m \u001b[0minput_length\u001b[0m\u001b[0;34m=\u001b[0m\u001b[0mM\u001b[0m\u001b[0;34m,\u001b[0m \u001b[0minput_dim\u001b[0m\u001b[0;34m=\u001b[0m\u001b[0mN\u001b[0m\u001b[0;34m)\u001b[0m\u001b[0;34m)\u001b[0m\u001b[0;34m\u001b[0m\u001b[0;34m\u001b[0m\u001b[0m\n",
            "\u001b[0;31mNameError\u001b[0m: name 'hidden_units' is not defined"
          ]
        }
      ]
    },
    {
      "cell_type": "code",
      "source": [
        "from tensorflow.keras.models import Sequential\n",
        "from tensorflow.keras.layers import SimpleRNN\n",
        "\n",
        "model = Sequential()\n",
        "model.add(SimpleRNN(3, input_shape=(2,10)))\n",
        "model.summary()"
      ],
      "metadata": {
        "colab": {
          "base_uri": "https://localhost:8080/"
        },
        "id": "qzsyae89x2Hi",
        "outputId": "4123a40a-b617-4a9c-bd07-e26e7cfc0e68"
      },
      "execution_count": 9,
      "outputs": [
        {
          "output_type": "stream",
          "name": "stdout",
          "text": [
            "Model: \"sequential_3\"\n",
            "_________________________________________________________________\n",
            " Layer (type)                Output Shape              Param #   \n",
            "=================================================================\n",
            " simple_rnn (SimpleRNN)      (None, 3)                 42        \n",
            "                                                                 \n",
            "=================================================================\n",
            "Total params: 42\n",
            "Trainable params: 42\n",
            "Non-trainable params: 0\n",
            "_________________________________________________________________\n"
          ]
        }
      ]
    },
    {
      "cell_type": "code",
      "source": [
        "# batch_size 정의\n",
        "model = Sequential()\n",
        "model.add(SimpleRNN(3, batch_input_shape=(8, 2, 10)))\n",
        "model.summary()"
      ],
      "metadata": {
        "colab": {
          "base_uri": "https://localhost:8080/"
        },
        "id": "EzNxPgNA0j5O",
        "outputId": "71a09741-de07-4ba7-899b-3490812b07b5"
      },
      "execution_count": 10,
      "outputs": [
        {
          "output_type": "stream",
          "name": "stdout",
          "text": [
            "Model: \"sequential_4\"\n",
            "_________________________________________________________________\n",
            " Layer (type)                Output Shape              Param #   \n",
            "=================================================================\n",
            " simple_rnn_1 (SimpleRNN)    (8, 3)                    42        \n",
            "                                                                 \n",
            "=================================================================\n",
            "Total params: 42\n",
            "Trainable params: 42\n",
            "Non-trainable params: 0\n",
            "_________________________________________________________________\n"
          ]
        }
      ]
    },
    {
      "cell_type": "markdown",
      "source": [
        "## 3. 파이썬으로 RNN 구현하기"
      ],
      "metadata": {
        "id": "-QMpCsQA099B"
      }
    },
    {
      "cell_type": "code",
      "source": [
        "# 초기 은닉 상태 출력\n",
        "import numpy as np\n",
        "\n",
        "timesteps = 10\n",
        "input_dim = 4\n",
        "hidden_units = 8    # 은닉 상태의 크기를 8로 지정하였으므로 8의 차원을 가지는 0의 값으로 구성된 벡터 출력\n",
        "\n",
        "# 입력에 해당되는 2D 텐서\n",
        "inputs = np.random.random((timesteps, input_dim))\n",
        "\n",
        "# 초기 은닉 상태는 0(벡터)로 초기화\n",
        "hidden_state_t = np.zeros((hidden_units,))\n",
        "\n",
        "print('초기 은닉 상태 :', hidden_state_t)"
      ],
      "metadata": {
        "colab": {
          "base_uri": "https://localhost:8080/"
        },
        "id": "KMGPw--y012T",
        "outputId": "b1d8ad34-f2b5-4785-a9a5-ec1c6309846a"
      },
      "execution_count": 11,
      "outputs": [
        {
          "output_type": "stream",
          "name": "stdout",
          "text": [
            "초기 은닉 상태 : [0. 0. 0. 0. 0. 0. 0. 0.]\n"
          ]
        }
      ]
    },
    {
      "cell_type": "code",
      "source": [
        "# 가중치와 편향을 각 크기에 맞게 정의하고 크기를 출력\n",
        "Wx = np.random.random((hidden_units, input_dim))    # (8, 4)크기의 2D 텐서 생성. 입력에 대한 가중치\n",
        "Wh = np.random.random((hidden_units, hidden_units))    #(8, 8)크기의 2D 텐서 생성. 은닉 상태에 대한 가중치\n",
        "b = np.random.random((hidden_units,))    # (8,)크기의 1D 텐서 생성. 이 값은 편향(bias)\n",
        "\n",
        "print(\"가중치 Wx의 크기(shape) :\", np.shape(Wx))\n",
        "print(\"가중치 Wh의 크기(shape) :\", np.shape(Wh))\n",
        "print(\"편향의 크기(shape) :\", np.shape(b))"
      ],
      "metadata": {
        "colab": {
          "base_uri": "https://localhost:8080/"
        },
        "id": "LpTaDpfI1vVx",
        "outputId": "3343a64e-f8ff-497d-a765-9731b7ec8854"
      },
      "execution_count": 12,
      "outputs": [
        {
          "output_type": "stream",
          "name": "stdout",
          "text": [
            "가중치 Wx의 크기(shape) : (8, 4)\n",
            "가중치 Wh의 크기(shape) : (8, 8)\n",
            "편향의 크기(shape) : (8,)\n"
          ]
        }
      ]
    },
    {
      "cell_type": "code",
      "source": [
        "total_hidden_states = []\n",
        "\n",
        "# 각 시점 별 입력값\n",
        "for input_t in inputs:\n",
        "\n",
        "  # Wx * Xt + Wh * Ht-1 + b(bias)\n",
        "  output_t = np.tanh(np.dot(Wx, input_t) + np.dot(Wh, hidden_state_t) + b)\n",
        "\n",
        "  # 각 시점 t별 메모리 셀의 출력의 크기는 (timestep t, output_dim)\n",
        "  # 각 시점의 은닉 상태의 값을 계속해서 누적\n",
        "  total_hidden_states.append(list(output_t))\n",
        "  hidden_state_t = output_t\n",
        "\n",
        "# 출력 시 값을 깔끔하게 해주는 용도\n",
        "total_hidden_states = np.stack(total_hidden_states, axis = 0)\n",
        "\n",
        "# (timesteps, output_dim)\n",
        "print(\"모든 시점의 은닉 상태 :\")\n",
        "print(total_hidden_states)"
      ],
      "metadata": {
        "colab": {
          "base_uri": "https://localhost:8080/"
        },
        "id": "CN0WpPxg2ig4",
        "outputId": "d728a1b3-a4d1-4c0e-9bd7-5e7610bf3127"
      },
      "execution_count": 13,
      "outputs": [
        {
          "output_type": "stream",
          "name": "stdout",
          "text": [
            "모든 시점의 은닉 상태 :\n",
            "[[0.85892501 0.73176634 0.5251392  0.89855182 0.80492195 0.55550789\n",
            "  0.95886989 0.94872285]\n",
            " [0.99958636 0.99737525 0.99843232 0.99994022 0.9995729  0.99958485\n",
            "  0.99978895 0.99989431]\n",
            " [0.99993836 0.99965306 0.99990156 0.99999652 0.99998131 0.99993636\n",
            "  0.99998939 0.99998785]\n",
            " [0.99979967 0.99896374 0.99961893 0.99997422 0.99950914 0.99984453\n",
            "  0.99995005 0.99997152]\n",
            " [0.99979573 0.99878326 0.9993622  0.99997098 0.99938293 0.99987047\n",
            "  0.99994438 0.99997303]\n",
            " [0.9998951  0.99919469 0.99971106 0.99998333 0.99977733 0.99990134\n",
            "  0.99998262 0.99998682]\n",
            " [0.99995261 0.99930951 0.99983762 0.99998804 0.99991495 0.99993583\n",
            "  0.99999148 0.99999357]\n",
            " [0.99989408 0.99958168 0.99983894 0.99999529 0.99996173 0.99991781\n",
            "  0.99997969 0.99997959]\n",
            " [0.99991443 0.99957662 0.9998786  0.9999931  0.99993164 0.99990308\n",
            "  0.99999216 0.99998852]\n",
            " [0.99981444 0.99908011 0.9994009  0.99998702 0.99982257 0.99990953\n",
            "  0.99991842 0.99996495]]\n"
          ]
        }
      ]
    },
    {
      "cell_type": "markdown",
      "source": [
        "## 4. 깊은 순환 신경망"
      ],
      "metadata": {
        "id": "rJ4b7qR44AVr"
      }
    },
    {
      "cell_type": "code",
      "source": [
        "# 은닉층을 2개 추가하는 경우의 코드\n",
        "model = Sequential()\n",
        "model.add(SimpleRNN(hidden_units, input_length=10, input_dim=5, return_sequences=True))\n",
        "model.add(SimpleRNN(hidden_units, return_sequences=True))"
      ],
      "metadata": {
        "id": "mtSUG8xk3Rf9"
      },
      "execution_count": 14,
      "outputs": []
    },
    {
      "cell_type": "markdown",
      "source": [
        "## 5. 양방향 순환 신경망"
      ],
      "metadata": {
        "id": "HsgYLeZ-5cs2"
      }
    },
    {
      "cell_type": "code",
      "source": [
        "# 앞 시점의 은닉상태와 뒤 시점의 은닉 상태의 값 모두가 현재 시점의 출력층에서 출력값을 예측하기 위해 사용\n",
        "from tensorflow.keras.models import Bidirectional\n",
        "\n",
        "timesteps = 10\n",
        "input_dim = 5\n",
        "\n",
        "model = Sequential()\n",
        "model.add(Bidirectional(SimpleRNN(hidden_units, return_sequences=True), input_shape=(timesteps, input_dim)))"
      ],
      "metadata": {
        "colab": {
          "base_uri": "https://localhost:8080/",
          "height": 413
        },
        "id": "58XbJUa64UTj",
        "outputId": "5175ffe6-bd29-496b-8cd7-fa5f65e74732"
      },
      "execution_count": 16,
      "outputs": [
        {
          "output_type": "error",
          "ename": "ImportError",
          "evalue": "ignored",
          "traceback": [
            "\u001b[0;31m---------------------------------------------------------------------------\u001b[0m",
            "\u001b[0;31mImportError\u001b[0m                               Traceback (most recent call last)",
            "\u001b[0;32m<ipython-input-16-db1b5d4cc481>\u001b[0m in \u001b[0;36m<module>\u001b[0;34m()\u001b[0m\n\u001b[1;32m      1\u001b[0m \u001b[0;31m# 앞 시점의 은닉상태와 뒤 시점의 은닉 상태의 값 모두가 현재 시점의 출력층에서 출력값을 예측하기 위해 사용\u001b[0m\u001b[0;34m\u001b[0m\u001b[0;34m\u001b[0m\u001b[0;34m\u001b[0m\u001b[0m\n\u001b[0;32m----> 2\u001b[0;31m \u001b[0;32mfrom\u001b[0m \u001b[0mtensorflow\u001b[0m\u001b[0;34m.\u001b[0m\u001b[0mkeras\u001b[0m\u001b[0;34m.\u001b[0m\u001b[0mmodels\u001b[0m \u001b[0;32mimport\u001b[0m \u001b[0mBidirectional\u001b[0m\u001b[0;34m\u001b[0m\u001b[0;34m\u001b[0m\u001b[0m\n\u001b[0m\u001b[1;32m      3\u001b[0m \u001b[0;34m\u001b[0m\u001b[0m\n\u001b[1;32m      4\u001b[0m \u001b[0mtimesteps\u001b[0m \u001b[0;34m=\u001b[0m \u001b[0;36m10\u001b[0m\u001b[0;34m\u001b[0m\u001b[0;34m\u001b[0m\u001b[0m\n\u001b[1;32m      5\u001b[0m \u001b[0minput_dim\u001b[0m \u001b[0;34m=\u001b[0m \u001b[0;36m5\u001b[0m\u001b[0;34m\u001b[0m\u001b[0;34m\u001b[0m\u001b[0m\n",
            "\u001b[0;31mImportError\u001b[0m: cannot import name 'Bidirectional' from 'tensorflow.keras.models' (/usr/local/lib/python3.7/dist-packages/keras/api/_v2/keras/models/__init__.py)",
            "",
            "\u001b[0;31m---------------------------------------------------------------------------\u001b[0;32m\nNOTE: If your import is failing due to a missing package, you can\nmanually install dependencies using either !pip or !apt.\n\nTo view examples of installing some common dependencies, click the\n\"Open Examples\" button below.\n\u001b[0;31m---------------------------------------------------------------------------\u001b[0m\n"
          ],
          "errorDetails": {
            "actions": [
              {
                "action": "open_url",
                "actionText": "Open Examples",
                "url": "/notebooks/snippets/importing_libraries.ipynb"
              }
            ]
          }
        }
      ]
    },
    {
      "cell_type": "markdown",
      "source": [
        "# 4) 케라스의 SimpleRNN과 LSTM 이해하기\n",
        "## 1. 임의의 입력 생성하기"
      ],
      "metadata": {
        "id": "iCXEppyx-k1Z"
      }
    },
    {
      "cell_type": "code",
      "source": [
        "import numpy as np\n",
        "import tensorflow as tf\n",
        "from tensorflow.keras.layers import SimpleRNN, LSTM, Bidirectional"
      ],
      "metadata": {
        "id": "ufXBQNE354rm"
      },
      "execution_count": 18,
      "outputs": []
    },
    {
      "cell_type": "code",
      "source": [
        "# RNN과 LSTM을 테스트하기 위한 임의의 입력\n",
        "train_X = [[0.1, 4.2, 1.5, 1.1, 2.8], [1.0, 3.1, 2.5, 0.7, 1.1], [0.3, 2.1, 1.5, 2.1, 0.1], [2.2, 1.4, 0.5, 0.9, 1.1]]\n",
        "print(np.shape(train_X))"
      ],
      "metadata": {
        "colab": {
          "base_uri": "https://localhost:8080/"
        },
        "id": "YlOHgt5i-y9J",
        "outputId": "7d637ff9-9ae3-4d48-ada6-20d568e0c600"
      },
      "execution_count": 20,
      "outputs": [
        {
          "output_type": "stream",
          "name": "stdout",
          "text": [
            "(4, 5)\n"
          ]
        }
      ]
    },
    {
      "cell_type": "code",
      "source": [
        "# 2D 텐서를 3D 텐서로 변경\n",
        "train_X = [[[0.1, 4.2, 1.5, 1.1, 2.8], [1.0, 3.1, 2.5, 0.7, 1.1], [0.3, 2.1, 1.5, 2.1, 0.1], [2.2, 1.4, 0.5, 0.9, 1.1]]]\n",
        "train_X = np.array(train_X, dtype=np.float32)\n",
        "print(train_X.shape)"
      ],
      "metadata": {
        "colab": {
          "base_uri": "https://localhost:8080/"
        },
        "id": "0MJTgQE0-9BT",
        "outputId": "5313fc41-2002-489c-8e9e-020acfdb5650"
      },
      "execution_count": 21,
      "outputs": [
        {
          "output_type": "stream",
          "name": "stdout",
          "text": [
            "(1, 4, 5)\n"
          ]
        }
      ]
    },
    {
      "cell_type": "markdown",
      "source": [
        "## SimpleRNN 이해하기"
      ],
      "metadata": {
        "id": "wx-44Hp5Am-q"
      }
    },
    {
      "cell_type": "code",
      "source": [
        "# 은닉 상태의 크기3, 두 인자 값이 모두 False일 때의 출력값\n",
        "rnn = SimpleRNN(3)\n",
        "# rnn = SimpleRNN(3, return_sequences=False, return_state=False)와 동일\n",
        "hidden_state = rnn(train_X)\n",
        "\n",
        "print(\"hidden state : {}, shape : {}\".format(hidden_state, hidden_state.shape))"
      ],
      "metadata": {
        "colab": {
          "base_uri": "https://localhost:8080/"
        },
        "id": "jLNWh5aVAO_9",
        "outputId": "a8559b4f-cbe7-48f8-b66a-eeb342be4d24"
      },
      "execution_count": 22,
      "outputs": [
        {
          "output_type": "stream",
          "name": "stdout",
          "text": [
            "hidden state : [[ 0.92126375 -0.9438475  -0.9928897 ]], shape : (1, 3)\n"
          ]
        }
      ]
    },
    {
      "cell_type": "code",
      "source": [
        "# return_sequences를 True로 지정하여 모든 시점의 은닉 상태를 출력\n",
        "rnn = SimpleRNN(3, return_sequences=True)\n",
        "hidden_states = rnn(train_X)\n",
        "\n",
        "print(\"hidden states : {}, shape : {}\".format(hidden_states, hidden_states.shape))"
      ],
      "metadata": {
        "colab": {
          "base_uri": "https://localhost:8080/"
        },
        "id": "2f2D7LT1BDfh",
        "outputId": "7ae1b183-1c94-438c-a07e-a0f6e17c8362"
      },
      "execution_count": 23,
      "outputs": [
        {
          "output_type": "stream",
          "name": "stdout",
          "text": [
            "hidden states : [[[ 0.9833128   0.9935881  -0.9993068 ]\n",
            "  [ 0.85626465  0.99619716 -0.9940144 ]\n",
            "  [-0.02891342  0.1666882  -0.925371  ]\n",
            "  [-0.6240324   0.92511374 -0.93153566]]], shape : (1, 4, 3)\n"
          ]
        }
      ]
    },
    {
      "cell_type": "code",
      "source": [
        "# return_state가 True일 경우에는 return_sequences의 True/False 여부와 상관없이 마지막 시점의 은닉 상태를 출력\n",
        "rnn = SimpleRNN(3, return_sequences=True, return_state=True)\n",
        "hidden_states, last_state = rnn(train_X)\n",
        "\n",
        "print(\"hidden states : {}, shape : {}\".format(hidden_states, hidden_states.shape))\n",
        "print(\"last hidden state : {}, shape : {}\".format(last_state, last_state.shape))"
      ],
      "metadata": {
        "colab": {
          "base_uri": "https://localhost:8080/"
        },
        "id": "a1kyRo1uBtj-",
        "outputId": "1b0ccb02-324d-48e4-8cab-1df0f2d20a1a"
      },
      "execution_count": 24,
      "outputs": [
        {
          "output_type": "stream",
          "name": "stdout",
          "text": [
            "hidden states : [[[-0.21191558  0.9247593  -0.5584665 ]\n",
            "  [-0.16361693  0.78625154 -0.96553063]\n",
            "  [ 0.2464614   0.21260898 -0.97729856]\n",
            "  [ 0.5551516   0.98431927 -0.49670163]]], shape : (1, 4, 3)\n",
            "last hidden state : [[ 0.5551516   0.98431927 -0.49670163]], shape : (1, 3)\n"
          ]
        }
      ]
    },
    {
      "cell_type": "code",
      "source": [
        "# return_sequences는 False, return_state는 True인 경우\n",
        "# 두 개의 출력 모두 마지막 시점의 은닉 상태를 출력\n",
        "rnn = SimpleRNN(3, return_sequences=False, return_state=True)\n",
        "hidden_state, last_state = rnn(train_X)\n",
        "\n",
        "print('hidden state : {}, shape: {}'.format(hidden_state, hidden_state.shape))\n",
        "print('last hidden state : {}, shape: {}'.format(last_state, last_state.shape))"
      ],
      "metadata": {
        "colab": {
          "base_uri": "https://localhost:8080/"
        },
        "id": "OxQyhAnSCVEW",
        "outputId": "6bd315ac-e403-48ea-c2f2-7d0da62610f6"
      },
      "execution_count": 25,
      "outputs": [
        {
          "output_type": "stream",
          "name": "stdout",
          "text": [
            "hidden state : [[ 0.9712757  -0.9757286   0.04037877]], shape: (1, 3)\n",
            "last hidden state : [[ 0.9712757  -0.9757286   0.04037877]], shape: (1, 3)\n"
          ]
        }
      ]
    },
    {
      "cell_type": "markdown",
      "source": [
        "## LSTM 이해하기"
      ],
      "metadata": {
        "id": "CD_3mmXIDb1b"
      }
    },
    {
      "cell_type": "code",
      "source": [
        "# 임의의 입력에 대해서 LSTM을 사용할 경우\n",
        "lstm = LSTM(3, return_sequences=False, return_state=True)\n",
        "hidden_state, last_state, last_cell_state = lstm(train_X)\n",
        "\n",
        "print('hidden state : {}, shape: {}'.format(hidden_state, hidden_state.shape))\n",
        "print('last hidden state : {}, shape: {}'.format(last_state, last_state.shape))\n",
        "print('last cell state : {}, shape: {}'.format(last_cell_state, last_cell_state.shape))"
      ],
      "metadata": {
        "colab": {
          "base_uri": "https://localhost:8080/"
        },
        "id": "NDOVPuDPDT8d",
        "outputId": "2f677451-39dc-401c-ee14-8d70dc265b50"
      },
      "execution_count": 26,
      "outputs": [
        {
          "output_type": "stream",
          "name": "stdout",
          "text": [
            "hidden state : [[-0.12563483 -0.30545184  0.09709059]], shape: (1, 3)\n",
            "last hidden state : [[-0.12563483 -0.30545184  0.09709059]], shape: (1, 3)\n",
            "last cell state : [[-0.65726584 -1.1308584   0.24708945]], shape: (1, 3)\n"
          ]
        }
      ]
    },
    {
      "cell_type": "code",
      "source": [
        "# LSTM은 return_state를 True로 둔 경우에는 마지막 시점의 은닉 상태뿐만 아니라 셀 상태까지 반환\n",
        "# return_sequences = True\n",
        "lstm = LSTM(3, return_sequences=True, return_state=True)\n",
        "hidden_states, last_hidden_state, last_cell_state = lstm(train_X)\n",
        "\n",
        "print('hidden states : {}, shape: {}'.format(hidden_states, hidden_states.shape))\n",
        "print('last hidden state : {}, shape: {}'.format(last_hidden_state, last_hidden_state.shape))\n",
        "print('last cell state : {}, shape: {}'.format(last_cell_state, last_cell_state.shape))"
      ],
      "metadata": {
        "colab": {
          "base_uri": "https://localhost:8080/"
        },
        "id": "HwqYxRNtDscn",
        "outputId": "faf10c05-3dc4-48ae-d4ba-3bdc7862af6a"
      },
      "execution_count": 27,
      "outputs": [
        {
          "output_type": "stream",
          "name": "stdout",
          "text": [
            "hidden states : [[[ 2.9361385e-01 -7.8314334e-02  6.8932626e-04]\n",
            "  [ 3.1340003e-01 -4.3612391e-01 -3.3691153e-04]\n",
            "  [ 4.2513573e-01 -5.2452689e-01  4.2103127e-02]\n",
            "  [ 4.2195633e-01 -5.5606651e-01  4.5449071e-02]]], shape: (1, 4, 3)\n",
            "last hidden state : [[ 0.42195633 -0.5560665   0.04544907]], shape: (1, 3)\n",
            "last cell state : [[ 0.642616   -2.176991    0.06499276]], shape: (1, 3)\n"
          ]
        }
      ]
    },
    {
      "cell_type": "markdown",
      "source": [
        "## 3. Bidirectional(LSTM) 이해하기"
      ],
      "metadata": {
        "id": "FC40mL4XEMAs"
      }
    },
    {
      "cell_type": "code",
      "source": [
        "k_init = tf.keras.initializers.Constant(value=0.1)\n",
        "b_init = tf.keras.initializers.Constant(value=0)\n",
        "r_init = tf.keras.initializers.Constant(value=0.1)"
      ],
      "metadata": {
        "id": "b7MRkqmyEGCt"
      },
      "execution_count": 28,
      "outputs": []
    },
    {
      "cell_type": "code",
      "source": [
        "# return_sequences가 False이고, return_state가 True인 경우\n",
        "bilstm = Bidirectional(LSTM(3, return_sequences=False, return_state=True, \\\n",
        "                            kernel_initializer=k_init, bias_initializer=b_init, recurrent_initializer=r_init))\n",
        "hidden_states, forward_h, forward_c, backward_h, backward_c = bilstm(train_X)\n",
        "\n",
        "print('hidden states : {}, shape: {}'.format(hidden_states, hidden_states.shape))\n",
        "print('forward state : {}, shape: {}'.format(forward_h, forward_h.shape))\n",
        "print('backward state : {}, shape: {}'.format(backward_h, backward_h.shape))"
      ],
      "metadata": {
        "colab": {
          "base_uri": "https://localhost:8080/"
        },
        "id": "D2TcyzKrEeqy",
        "outputId": "c0712b9d-4f5f-4cf5-db04-3d57af6e88f4"
      },
      "execution_count": 29,
      "outputs": [
        {
          "output_type": "stream",
          "name": "stdout",
          "text": [
            "hidden states : [[0.63031393 0.63031393 0.63031393 0.7038734  0.7038734  0.7038734 ]], shape: (1, 6)\n",
            "forward state : [[0.63031393 0.63031393 0.63031393]], shape: (1, 3)\n",
            "backward state : [[0.7038734 0.7038734 0.7038734]], shape: (1, 3)\n"
          ]
        }
      ]
    },
    {
      "cell_type": "code",
      "source": [
        "# 현재 은닉 상태의 값을 고정시켜두었기 때문에 return_sequences를 True로 할 경우, 출력이 어떻게 바뀌는지 비교 가능\n",
        "bilstm = Bidirectional(LSTM(3, return_sequences=True, return_state=True, \\\n",
        "                            kernel_initializer=k_init, bias_initializer=b_init, recurrent_initializer=r_init))\n",
        "hidden_states, forward_h, forward_c, backward_h, backward_c = bilstm(train_X)\n",
        "\n",
        "print('hidden states : {}, shape: {}'.format(hidden_states, hidden_states.shape))\n",
        "print('forward state : {}, shape: {}'.format(forward_h, forward_h.shape))\n",
        "print('backward state : {}, shape: {}'.format(backward_h, backward_h.shape))"
      ],
      "metadata": {
        "colab": {
          "base_uri": "https://localhost:8080/"
        },
        "id": "HxhmJG8IFChS",
        "outputId": "6a906243-4f4d-464b-8498-9273debdba5b"
      },
      "execution_count": 30,
      "outputs": [
        {
          "output_type": "stream",
          "name": "stdout",
          "text": [
            "hidden states : [[[0.35906473 0.35906473 0.35906473 0.7038734  0.7038734  0.7038734 ]\n",
            "  [0.5511133  0.5511133  0.5511133  0.58863586 0.58863586 0.58863586]\n",
            "  [0.59115744 0.59115744 0.59115744 0.3951699  0.3951699  0.3951699 ]\n",
            "  [0.63031393 0.63031393 0.63031393 0.21942244 0.21942244 0.21942244]]], shape: (1, 4, 6)\n",
            "forward state : [[0.63031393 0.63031393 0.63031393]], shape: (1, 3)\n",
            "backward state : [[0.7038734 0.7038734 0.7038734]], shape: (1, 3)\n"
          ]
        }
      ]
    },
    {
      "cell_type": "markdown",
      "source": [
        "# 6) RNN을 이용한 텍스트 생성\n",
        "## 1. RNN을 이용하여 택스트 생성하기\n",
        "### 1) 데이터에 대한 이해와 전처리"
      ],
      "metadata": {
        "id": "uCfUzGecF_7X"
      }
    },
    {
      "cell_type": "code",
      "source": [
        "import numpy as np\n",
        "from tensorflow.keras.preprocessing.text import Tokenizer\n",
        "from tensorflow.keras.preprocessing.sequence import pad_sequences\n",
        "from tensorflow.keras.utils import to_categorical"
      ],
      "metadata": {
        "id": "HESZ_7G-Fkf4"
      },
      "execution_count": 31,
      "outputs": []
    },
    {
      "cell_type": "code",
      "source": [
        "# 단어 집합을 생성하고 크기 확인\n",
        "text = \"\"\"경마장에 있는 말이 뛰고 있다\\n\n",
        "그의 말이 법이다\\n\n",
        "가는 말이 고와야 오는 말이 곱다\\n\"\"\"\n",
        "\n",
        "tokenizer = Tokenizer()\n",
        "tokenizer.fit_on_texts([text])\n",
        "vocab_size = len(tokenizer.word_index) + 1\n",
        "print(\"단어 집합의 크기 : %d\" % vocab_size)"
      ],
      "metadata": {
        "colab": {
          "base_uri": "https://localhost:8080/"
        },
        "id": "4TtJNv1YGbSu",
        "outputId": "4b9b9e4e-f68b-4184-a1a9-78e3fb737d87"
      },
      "execution_count": 32,
      "outputs": [
        {
          "output_type": "stream",
          "name": "stdout",
          "text": [
            "단어 집합의 크기 : 12\n"
          ]
        }
      ]
    },
    {
      "cell_type": "code",
      "source": [
        "# 각 단어와 단어에 부여된 정수 인덱스 출력\n",
        "print(tokenizer.word_index)"
      ],
      "metadata": {
        "colab": {
          "base_uri": "https://localhost:8080/"
        },
        "id": "D2ahvpsYGwmX",
        "outputId": "fe53cd04-192f-476c-f857-38e7197d6a7f"
      },
      "execution_count": 33,
      "outputs": [
        {
          "output_type": "stream",
          "name": "stdout",
          "text": [
            "{'말이': 1, '경마장에': 2, '있는': 3, '뛰고': 4, '있다': 5, '그의': 6, '법이다': 7, '가는': 8, '고와야': 9, '오는': 10, '곱다': 11}\n"
          ]
        }
      ]
    },
    {
      "cell_type": "code",
      "source": [
        "# 훈련 데이터 작성\n",
        "sequences = list()\n",
        "for line in text.split('\\n'):    # 줄바꿈 문자를 기준으로 문장 토큰화\n",
        "  encoded = tokenizer.texts_to_sequences([line])[0]\n",
        "  for i in range(1, len(encoded)):\n",
        "    sequence = encoded[:i+1]\n",
        "    sequences.append(sequence)\n",
        "\n",
        "print(\"학습에 사용할 샘플의 개수 : %d\" %len(sequences))"
      ],
      "metadata": {
        "colab": {
          "base_uri": "https://localhost:8080/"
        },
        "id": "nCHOhfeeG17w",
        "outputId": "4775b0da-b098-413c-a381-c14eed9b2b6c"
      },
      "execution_count": 34,
      "outputs": [
        {
          "output_type": "stream",
          "name": "stdout",
          "text": [
            "학습에 사용할 샘플의 개수 : 11\n"
          ]
        }
      ]
    },
    {
      "cell_type": "code",
      "source": [
        "# 전체 샘플 출력\n",
        "print(sequences)"
      ],
      "metadata": {
        "colab": {
          "base_uri": "https://localhost:8080/"
        },
        "id": "HIwEBWabHO2r",
        "outputId": "22131ae0-a9e4-470c-b986-a05cf07a37f0"
      },
      "execution_count": 35,
      "outputs": [
        {
          "output_type": "stream",
          "name": "stdout",
          "text": [
            "[[2, 3], [2, 3, 1], [2, 3, 1, 4], [2, 3, 1, 4, 5], [6, 1], [6, 1, 7], [8, 1], [8, 1, 9], [8, 1, 9, 10], [8, 1, 9, 10, 1], [8, 1, 9, 10, 1, 11]]\n"
          ]
        }
      ]
    },
    {
      "cell_type": "code",
      "source": [
        "# 가장 긴 샘플을 기준으로 전체 샘플의 길이 일치시키기\n",
        "max_len = max(len(l) for l in sequences)    # 모든 샘플에서 길이가 가장 긴 샘플의 길이 출력\n",
        "print(\"샘플의 최대 길이 : {}\".format(max_len))"
      ],
      "metadata": {
        "colab": {
          "base_uri": "https://localhost:8080/"
        },
        "id": "DJOTSLwTHTIp",
        "outputId": "b6d215ad-beb8-4ead-f4f4-bff371a9e5a5"
      },
      "execution_count": 36,
      "outputs": [
        {
          "output_type": "stream",
          "name": "stdout",
          "text": [
            "샘플의 최대 길이 : 6\n"
          ]
        }
      ]
    },
    {
      "cell_type": "code",
      "source": [
        "# 가장 긴 샘플의 길이로 패딩\n",
        "sequences = pad_sequences(sequences, maxlen=max_len, padding='pre')"
      ],
      "metadata": {
        "id": "MOPXJ-jDIYeb"
      },
      "execution_count": 37,
      "outputs": []
    },
    {
      "cell_type": "code",
      "source": [
        "print(sequences)"
      ],
      "metadata": {
        "colab": {
          "base_uri": "https://localhost:8080/"
        },
        "id": "P3IzvQw8Ige7",
        "outputId": "0a4ed6d9-0712-4c81-c709-0bea277d4e7a"
      },
      "execution_count": 38,
      "outputs": [
        {
          "output_type": "stream",
          "name": "stdout",
          "text": [
            "[[ 0  0  0  0  2  3]\n",
            " [ 0  0  0  2  3  1]\n",
            " [ 0  0  2  3  1  4]\n",
            " [ 0  2  3  1  4  5]\n",
            " [ 0  0  0  0  6  1]\n",
            " [ 0  0  0  6  1  7]\n",
            " [ 0  0  0  0  8  1]\n",
            " [ 0  0  0  8  1  9]\n",
            " [ 0  0  8  1  9 10]\n",
            " [ 0  8  1  9 10  1]\n",
            " [ 8  1  9 10  1 11]]\n"
          ]
        }
      ]
    },
    {
      "cell_type": "code",
      "source": [
        "# 각 샘플의 마지막 단어를 레이블로 분리\n",
        "sequences = np.array(sequences)\n",
        "x = sequences[:, :-1]     # 리스트의 마지막 값을 제외하고 저장\n",
        "y = sequences[:, -1]    # 리스트의 마지막 값만 저장\n",
        "print(x)\n",
        "print(y)"
      ],
      "metadata": {
        "colab": {
          "base_uri": "https://localhost:8080/"
        },
        "id": "hVWWeug2Il6a",
        "outputId": "42aec961-0791-4016-e987-4dd08c5128fb"
      },
      "execution_count": 39,
      "outputs": [
        {
          "output_type": "stream",
          "name": "stdout",
          "text": [
            "[[ 0  0  0  0  2]\n",
            " [ 0  0  0  2  3]\n",
            " [ 0  0  2  3  1]\n",
            " [ 0  2  3  1  4]\n",
            " [ 0  0  0  0  6]\n",
            " [ 0  0  0  6  1]\n",
            " [ 0  0  0  0  8]\n",
            " [ 0  0  0  8  1]\n",
            " [ 0  0  8  1  9]\n",
            " [ 0  8  1  9 10]\n",
            " [ 8  1  9 10  1]]\n",
            "[ 3  1  4  5  1  7  1  9 10  1 11]\n"
          ]
        }
      ]
    },
    {
      "cell_type": "code",
      "source": [
        "# 레이블에 대해서 원-핫 인코딩 수행\n",
        "y = to_categorical(y, num_classes = vocab_size)\n",
        "print(y)"
      ],
      "metadata": {
        "colab": {
          "base_uri": "https://localhost:8080/"
        },
        "id": "A5w_LT6sI-zb",
        "outputId": "b5dd1a3b-2414-42ef-e03e-e2f889143a50"
      },
      "execution_count": 40,
      "outputs": [
        {
          "output_type": "stream",
          "name": "stdout",
          "text": [
            "[[0. 0. 0. 1. 0. 0. 0. 0. 0. 0. 0. 0.]\n",
            " [0. 1. 0. 0. 0. 0. 0. 0. 0. 0. 0. 0.]\n",
            " [0. 0. 0. 0. 1. 0. 0. 0. 0. 0. 0. 0.]\n",
            " [0. 0. 0. 0. 0. 1. 0. 0. 0. 0. 0. 0.]\n",
            " [0. 1. 0. 0. 0. 0. 0. 0. 0. 0. 0. 0.]\n",
            " [0. 0. 0. 0. 0. 0. 0. 1. 0. 0. 0. 0.]\n",
            " [0. 1. 0. 0. 0. 0. 0. 0. 0. 0. 0. 0.]\n",
            " [0. 0. 0. 0. 0. 0. 0. 0. 0. 1. 0. 0.]\n",
            " [0. 0. 0. 0. 0. 0. 0. 0. 0. 0. 1. 0.]\n",
            " [0. 1. 0. 0. 0. 0. 0. 0. 0. 0. 0. 0.]\n",
            " [0. 0. 0. 0. 0. 0. 0. 0. 0. 0. 0. 1.]]\n"
          ]
        }
      ]
    },
    {
      "cell_type": "markdown",
      "source": [
        "### 2) 모델 설계하기"
      ],
      "metadata": {
        "id": "imYRcI56JKud"
      }
    },
    {
      "cell_type": "code",
      "source": [
        "from tensorflow.keras.models import Sequential\n",
        "from tensorflow.keras.layers import Embedding, Dense, SimpleRNN"
      ],
      "metadata": {
        "id": "JztQXfFFJH4l"
      },
      "execution_count": 41,
      "outputs": []
    },
    {
      "cell_type": "code",
      "source": [
        "embedding_dim = 10\n",
        "hidden_units = 32\n",
        "\n",
        "model = Sequential()\n",
        "model.add(Embedding(vocab_size, embedding_dim))\n",
        "model.add(SimpleRNN(hidden_units))\n",
        "model.add(Dense(vocab_size, activation='softmax'))\n",
        "model.compile(loss='categorical_crossentropy', optimizer='adam', metrics=['accuracy'])\n",
        "model.fit(x, y, epochs=200, verbose=2)"
      ],
      "metadata": {
        "colab": {
          "base_uri": "https://localhost:8080/"
        },
        "id": "DH-F_9jxJVvX",
        "outputId": "afe87b1c-5194-48c5-e83a-93b915c40593"
      },
      "execution_count": 43,
      "outputs": [
        {
          "output_type": "stream",
          "name": "stdout",
          "text": [
            "Epoch 1/200\n",
            "1/1 - 1s - loss: 2.4750 - accuracy: 0.0909 - 1s/epoch - 1s/step\n",
            "Epoch 2/200\n",
            "1/1 - 0s - loss: 2.4625 - accuracy: 0.0909 - 9ms/epoch - 9ms/step\n",
            "Epoch 3/200\n",
            "1/1 - 0s - loss: 2.4498 - accuracy: 0.0909 - 7ms/epoch - 7ms/step\n",
            "Epoch 4/200\n",
            "1/1 - 0s - loss: 2.4369 - accuracy: 0.0909 - 5ms/epoch - 5ms/step\n",
            "Epoch 5/200\n",
            "1/1 - 0s - loss: 2.4237 - accuracy: 0.0909 - 5ms/epoch - 5ms/step\n",
            "Epoch 6/200\n",
            "1/1 - 0s - loss: 2.4101 - accuracy: 0.1818 - 6ms/epoch - 6ms/step\n",
            "Epoch 7/200\n",
            "1/1 - 0s - loss: 2.3959 - accuracy: 0.0909 - 8ms/epoch - 8ms/step\n",
            "Epoch 8/200\n",
            "1/1 - 0s - loss: 2.3812 - accuracy: 0.1818 - 8ms/epoch - 8ms/step\n",
            "Epoch 9/200\n",
            "1/1 - 0s - loss: 2.3659 - accuracy: 0.3636 - 6ms/epoch - 6ms/step\n",
            "Epoch 10/200\n",
            "1/1 - 0s - loss: 2.3498 - accuracy: 0.3636 - 5ms/epoch - 5ms/step\n",
            "Epoch 11/200\n",
            "1/1 - 0s - loss: 2.3329 - accuracy: 0.4545 - 5ms/epoch - 5ms/step\n",
            "Epoch 12/200\n",
            "1/1 - 0s - loss: 2.3152 - accuracy: 0.4545 - 7ms/epoch - 7ms/step\n",
            "Epoch 13/200\n",
            "1/1 - 0s - loss: 2.2967 - accuracy: 0.4545 - 6ms/epoch - 6ms/step\n",
            "Epoch 14/200\n",
            "1/1 - 0s - loss: 2.2773 - accuracy: 0.4545 - 6ms/epoch - 6ms/step\n",
            "Epoch 15/200\n",
            "1/1 - 0s - loss: 2.2569 - accuracy: 0.3636 - 6ms/epoch - 6ms/step\n",
            "Epoch 16/200\n",
            "1/1 - 0s - loss: 2.2357 - accuracy: 0.3636 - 7ms/epoch - 7ms/step\n",
            "Epoch 17/200\n",
            "1/1 - 0s - loss: 2.2136 - accuracy: 0.3636 - 6ms/epoch - 6ms/step\n",
            "Epoch 18/200\n",
            "1/1 - 0s - loss: 2.1907 - accuracy: 0.3636 - 8ms/epoch - 8ms/step\n",
            "Epoch 19/200\n",
            "1/1 - 0s - loss: 2.1671 - accuracy: 0.3636 - 5ms/epoch - 5ms/step\n",
            "Epoch 20/200\n",
            "1/1 - 0s - loss: 2.1430 - accuracy: 0.3636 - 6ms/epoch - 6ms/step\n",
            "Epoch 21/200\n",
            "1/1 - 0s - loss: 2.1185 - accuracy: 0.3636 - 7ms/epoch - 7ms/step\n",
            "Epoch 22/200\n",
            "1/1 - 0s - loss: 2.0938 - accuracy: 0.3636 - 7ms/epoch - 7ms/step\n",
            "Epoch 23/200\n",
            "1/1 - 0s - loss: 2.0693 - accuracy: 0.3636 - 6ms/epoch - 6ms/step\n",
            "Epoch 24/200\n",
            "1/1 - 0s - loss: 2.0451 - accuracy: 0.3636 - 5ms/epoch - 5ms/step\n",
            "Epoch 25/200\n",
            "1/1 - 0s - loss: 2.0216 - accuracy: 0.3636 - 9ms/epoch - 9ms/step\n",
            "Epoch 26/200\n",
            "1/1 - 0s - loss: 1.9991 - accuracy: 0.3636 - 5ms/epoch - 5ms/step\n",
            "Epoch 27/200\n",
            "1/1 - 0s - loss: 1.9778 - accuracy: 0.3636 - 9ms/epoch - 9ms/step\n",
            "Epoch 28/200\n",
            "1/1 - 0s - loss: 1.9579 - accuracy: 0.3636 - 9ms/epoch - 9ms/step\n",
            "Epoch 29/200\n",
            "1/1 - 0s - loss: 1.9395 - accuracy: 0.3636 - 8ms/epoch - 8ms/step\n",
            "Epoch 30/200\n",
            "1/1 - 0s - loss: 1.9226 - accuracy: 0.3636 - 4ms/epoch - 4ms/step\n",
            "Epoch 31/200\n",
            "1/1 - 0s - loss: 1.9072 - accuracy: 0.3636 - 9ms/epoch - 9ms/step\n",
            "Epoch 32/200\n",
            "1/1 - 0s - loss: 1.8930 - accuracy: 0.3636 - 5ms/epoch - 5ms/step\n",
            "Epoch 33/200\n",
            "1/1 - 0s - loss: 1.8797 - accuracy: 0.3636 - 8ms/epoch - 8ms/step\n",
            "Epoch 34/200\n",
            "1/1 - 0s - loss: 1.8671 - accuracy: 0.3636 - 7ms/epoch - 7ms/step\n",
            "Epoch 35/200\n",
            "1/1 - 0s - loss: 1.8548 - accuracy: 0.3636 - 8ms/epoch - 8ms/step\n",
            "Epoch 36/200\n",
            "1/1 - 0s - loss: 1.8425 - accuracy: 0.3636 - 6ms/epoch - 6ms/step\n",
            "Epoch 37/200\n",
            "1/1 - 0s - loss: 1.8301 - accuracy: 0.3636 - 8ms/epoch - 8ms/step\n",
            "Epoch 38/200\n",
            "1/1 - 0s - loss: 1.8173 - accuracy: 0.3636 - 6ms/epoch - 6ms/step\n",
            "Epoch 39/200\n",
            "1/1 - 0s - loss: 1.8041 - accuracy: 0.3636 - 7ms/epoch - 7ms/step\n",
            "Epoch 40/200\n",
            "1/1 - 0s - loss: 1.7905 - accuracy: 0.3636 - 7ms/epoch - 7ms/step\n",
            "Epoch 41/200\n",
            "1/1 - 0s - loss: 1.7764 - accuracy: 0.3636 - 7ms/epoch - 7ms/step\n",
            "Epoch 42/200\n",
            "1/1 - 0s - loss: 1.7620 - accuracy: 0.3636 - 8ms/epoch - 8ms/step\n",
            "Epoch 43/200\n",
            "1/1 - 0s - loss: 1.7473 - accuracy: 0.3636 - 9ms/epoch - 9ms/step\n",
            "Epoch 44/200\n",
            "1/1 - 0s - loss: 1.7324 - accuracy: 0.3636 - 6ms/epoch - 6ms/step\n",
            "Epoch 45/200\n",
            "1/1 - 0s - loss: 1.7173 - accuracy: 0.3636 - 8ms/epoch - 8ms/step\n",
            "Epoch 46/200\n",
            "1/1 - 0s - loss: 1.7022 - accuracy: 0.3636 - 8ms/epoch - 8ms/step\n",
            "Epoch 47/200\n",
            "1/1 - 0s - loss: 1.6869 - accuracy: 0.3636 - 8ms/epoch - 8ms/step\n",
            "Epoch 48/200\n",
            "1/1 - 0s - loss: 1.6715 - accuracy: 0.3636 - 4ms/epoch - 4ms/step\n",
            "Epoch 49/200\n",
            "1/1 - 0s - loss: 1.6561 - accuracy: 0.3636 - 8ms/epoch - 8ms/step\n",
            "Epoch 50/200\n",
            "1/1 - 0s - loss: 1.6404 - accuracy: 0.4545 - 4ms/epoch - 4ms/step\n",
            "Epoch 51/200\n",
            "1/1 - 0s - loss: 1.6246 - accuracy: 0.4545 - 8ms/epoch - 8ms/step\n",
            "Epoch 52/200\n",
            "1/1 - 0s - loss: 1.6086 - accuracy: 0.4545 - 10ms/epoch - 10ms/step\n",
            "Epoch 53/200\n",
            "1/1 - 0s - loss: 1.5922 - accuracy: 0.4545 - 5ms/epoch - 5ms/step\n",
            "Epoch 54/200\n",
            "1/1 - 0s - loss: 1.5756 - accuracy: 0.4545 - 8ms/epoch - 8ms/step\n",
            "Epoch 55/200\n",
            "1/1 - 0s - loss: 1.5586 - accuracy: 0.4545 - 5ms/epoch - 5ms/step\n",
            "Epoch 56/200\n",
            "1/1 - 0s - loss: 1.5411 - accuracy: 0.5455 - 6ms/epoch - 6ms/step\n",
            "Epoch 57/200\n",
            "1/1 - 0s - loss: 1.5234 - accuracy: 0.5455 - 12ms/epoch - 12ms/step\n",
            "Epoch 58/200\n",
            "1/1 - 0s - loss: 1.5052 - accuracy: 0.5455 - 5ms/epoch - 5ms/step\n",
            "Epoch 59/200\n",
            "1/1 - 0s - loss: 1.4867 - accuracy: 0.5455 - 8ms/epoch - 8ms/step\n",
            "Epoch 60/200\n",
            "1/1 - 0s - loss: 1.4679 - accuracy: 0.5455 - 8ms/epoch - 8ms/step\n",
            "Epoch 61/200\n",
            "1/1 - 0s - loss: 1.4489 - accuracy: 0.5455 - 6ms/epoch - 6ms/step\n",
            "Epoch 62/200\n",
            "1/1 - 0s - loss: 1.4297 - accuracy: 0.5455 - 12ms/epoch - 12ms/step\n",
            "Epoch 63/200\n",
            "1/1 - 0s - loss: 1.4104 - accuracy: 0.5455 - 7ms/epoch - 7ms/step\n",
            "Epoch 64/200\n",
            "1/1 - 0s - loss: 1.3910 - accuracy: 0.5455 - 9ms/epoch - 9ms/step\n",
            "Epoch 65/200\n",
            "1/1 - 0s - loss: 1.3716 - accuracy: 0.5455 - 10ms/epoch - 10ms/step\n",
            "Epoch 66/200\n",
            "1/1 - 0s - loss: 1.3522 - accuracy: 0.5455 - 9ms/epoch - 9ms/step\n",
            "Epoch 67/200\n",
            "1/1 - 0s - loss: 1.3328 - accuracy: 0.5455 - 4ms/epoch - 4ms/step\n",
            "Epoch 68/200\n",
            "1/1 - 0s - loss: 1.3134 - accuracy: 0.6364 - 6ms/epoch - 6ms/step\n",
            "Epoch 69/200\n",
            "1/1 - 0s - loss: 1.2942 - accuracy: 0.6364 - 9ms/epoch - 9ms/step\n",
            "Epoch 70/200\n",
            "1/1 - 0s - loss: 1.2751 - accuracy: 0.6364 - 11ms/epoch - 11ms/step\n",
            "Epoch 71/200\n",
            "1/1 - 0s - loss: 1.2560 - accuracy: 0.6364 - 5ms/epoch - 5ms/step\n",
            "Epoch 72/200\n",
            "1/1 - 0s - loss: 1.2371 - accuracy: 0.6364 - 6ms/epoch - 6ms/step\n",
            "Epoch 73/200\n",
            "1/1 - 0s - loss: 1.2183 - accuracy: 0.6364 - 8ms/epoch - 8ms/step\n",
            "Epoch 74/200\n",
            "1/1 - 0s - loss: 1.1997 - accuracy: 0.6364 - 8ms/epoch - 8ms/step\n",
            "Epoch 75/200\n",
            "1/1 - 0s - loss: 1.1812 - accuracy: 0.6364 - 6ms/epoch - 6ms/step\n",
            "Epoch 76/200\n",
            "1/1 - 0s - loss: 1.1628 - accuracy: 0.6364 - 6ms/epoch - 6ms/step\n",
            "Epoch 77/200\n",
            "1/1 - 0s - loss: 1.1446 - accuracy: 0.6364 - 8ms/epoch - 8ms/step\n",
            "Epoch 78/200\n",
            "1/1 - 0s - loss: 1.1266 - accuracy: 0.6364 - 10ms/epoch - 10ms/step\n",
            "Epoch 79/200\n",
            "1/1 - 0s - loss: 1.1087 - accuracy: 0.6364 - 4ms/epoch - 4ms/step\n",
            "Epoch 80/200\n",
            "1/1 - 0s - loss: 1.0910 - accuracy: 0.6364 - 9ms/epoch - 9ms/step\n",
            "Epoch 81/200\n",
            "1/1 - 0s - loss: 1.0735 - accuracy: 0.6364 - 4ms/epoch - 4ms/step\n",
            "Epoch 82/200\n",
            "1/1 - 0s - loss: 1.0562 - accuracy: 0.6364 - 7ms/epoch - 7ms/step\n",
            "Epoch 83/200\n",
            "1/1 - 0s - loss: 1.0390 - accuracy: 0.7273 - 5ms/epoch - 5ms/step\n",
            "Epoch 84/200\n",
            "1/1 - 0s - loss: 1.0220 - accuracy: 0.7273 - 7ms/epoch - 7ms/step\n",
            "Epoch 85/200\n",
            "1/1 - 0s - loss: 1.0052 - accuracy: 0.7273 - 9ms/epoch - 9ms/step\n",
            "Epoch 86/200\n",
            "1/1 - 0s - loss: 0.9886 - accuracy: 0.7273 - 5ms/epoch - 5ms/step\n",
            "Epoch 87/200\n",
            "1/1 - 0s - loss: 0.9722 - accuracy: 0.7273 - 5ms/epoch - 5ms/step\n",
            "Epoch 88/200\n",
            "1/1 - 0s - loss: 0.9559 - accuracy: 0.7273 - 12ms/epoch - 12ms/step\n",
            "Epoch 89/200\n",
            "1/1 - 0s - loss: 0.9399 - accuracy: 0.7273 - 9ms/epoch - 9ms/step\n",
            "Epoch 90/200\n",
            "1/1 - 0s - loss: 0.9240 - accuracy: 0.7273 - 10ms/epoch - 10ms/step\n",
            "Epoch 91/200\n",
            "1/1 - 0s - loss: 0.9084 - accuracy: 0.7273 - 10ms/epoch - 10ms/step\n",
            "Epoch 92/200\n",
            "1/1 - 0s - loss: 0.8929 - accuracy: 0.7273 - 6ms/epoch - 6ms/step\n",
            "Epoch 93/200\n",
            "1/1 - 0s - loss: 0.8777 - accuracy: 0.7273 - 5ms/epoch - 5ms/step\n",
            "Epoch 94/200\n",
            "1/1 - 0s - loss: 0.8626 - accuracy: 0.7273 - 10ms/epoch - 10ms/step\n",
            "Epoch 95/200\n",
            "1/1 - 0s - loss: 0.8478 - accuracy: 0.7273 - 8ms/epoch - 8ms/step\n",
            "Epoch 96/200\n",
            "1/1 - 0s - loss: 0.8331 - accuracy: 0.7273 - 10ms/epoch - 10ms/step\n",
            "Epoch 97/200\n",
            "1/1 - 0s - loss: 0.8187 - accuracy: 0.8182 - 6ms/epoch - 6ms/step\n",
            "Epoch 98/200\n",
            "1/1 - 0s - loss: 0.8044 - accuracy: 0.8182 - 7ms/epoch - 7ms/step\n",
            "Epoch 99/200\n",
            "1/1 - 0s - loss: 0.7903 - accuracy: 0.8182 - 5ms/epoch - 5ms/step\n",
            "Epoch 100/200\n",
            "1/1 - 0s - loss: 0.7764 - accuracy: 0.8182 - 8ms/epoch - 8ms/step\n",
            "Epoch 101/200\n",
            "1/1 - 0s - loss: 0.7627 - accuracy: 0.8182 - 6ms/epoch - 6ms/step\n",
            "Epoch 102/200\n",
            "1/1 - 0s - loss: 0.7492 - accuracy: 0.8182 - 7ms/epoch - 7ms/step\n",
            "Epoch 103/200\n",
            "1/1 - 0s - loss: 0.7358 - accuracy: 0.8182 - 10ms/epoch - 10ms/step\n",
            "Epoch 104/200\n",
            "1/1 - 0s - loss: 0.7226 - accuracy: 0.8182 - 6ms/epoch - 6ms/step\n",
            "Epoch 105/200\n",
            "1/1 - 0s - loss: 0.7095 - accuracy: 0.8182 - 10ms/epoch - 10ms/step\n",
            "Epoch 106/200\n",
            "1/1 - 0s - loss: 0.6966 - accuracy: 0.8182 - 6ms/epoch - 6ms/step\n",
            "Epoch 107/200\n",
            "1/1 - 0s - loss: 0.6839 - accuracy: 0.8182 - 11ms/epoch - 11ms/step\n",
            "Epoch 108/200\n",
            "1/1 - 0s - loss: 0.6713 - accuracy: 0.8182 - 6ms/epoch - 6ms/step\n",
            "Epoch 109/200\n",
            "1/1 - 0s - loss: 0.6589 - accuracy: 0.8182 - 11ms/epoch - 11ms/step\n",
            "Epoch 110/200\n",
            "1/1 - 0s - loss: 0.6466 - accuracy: 0.8182 - 7ms/epoch - 7ms/step\n",
            "Epoch 111/200\n",
            "1/1 - 0s - loss: 0.6345 - accuracy: 0.8182 - 6ms/epoch - 6ms/step\n",
            "Epoch 112/200\n",
            "1/1 - 0s - loss: 0.6226 - accuracy: 0.8182 - 11ms/epoch - 11ms/step\n",
            "Epoch 113/200\n",
            "1/1 - 0s - loss: 0.6108 - accuracy: 0.8182 - 12ms/epoch - 12ms/step\n",
            "Epoch 114/200\n",
            "1/1 - 0s - loss: 0.5991 - accuracy: 0.8182 - 10ms/epoch - 10ms/step\n",
            "Epoch 115/200\n",
            "1/1 - 0s - loss: 0.5877 - accuracy: 0.9091 - 5ms/epoch - 5ms/step\n",
            "Epoch 116/200\n",
            "1/1 - 0s - loss: 0.5764 - accuracy: 0.9091 - 11ms/epoch - 11ms/step\n",
            "Epoch 117/200\n",
            "1/1 - 0s - loss: 0.5653 - accuracy: 0.9091 - 8ms/epoch - 8ms/step\n",
            "Epoch 118/200\n",
            "1/1 - 0s - loss: 0.5543 - accuracy: 0.9091 - 6ms/epoch - 6ms/step\n",
            "Epoch 119/200\n",
            "1/1 - 0s - loss: 0.5436 - accuracy: 0.9091 - 5ms/epoch - 5ms/step\n",
            "Epoch 120/200\n",
            "1/1 - 0s - loss: 0.5330 - accuracy: 0.9091 - 5ms/epoch - 5ms/step\n",
            "Epoch 121/200\n",
            "1/1 - 0s - loss: 0.5226 - accuracy: 0.9091 - 9ms/epoch - 9ms/step\n",
            "Epoch 122/200\n",
            "1/1 - 0s - loss: 0.5124 - accuracy: 0.9091 - 10ms/epoch - 10ms/step\n",
            "Epoch 123/200\n",
            "1/1 - 0s - loss: 0.5024 - accuracy: 0.9091 - 8ms/epoch - 8ms/step\n",
            "Epoch 124/200\n",
            "1/1 - 0s - loss: 0.4926 - accuracy: 0.9091 - 7ms/epoch - 7ms/step\n",
            "Epoch 125/200\n",
            "1/1 - 0s - loss: 0.4829 - accuracy: 0.9091 - 5ms/epoch - 5ms/step\n",
            "Epoch 126/200\n",
            "1/1 - 0s - loss: 0.4735 - accuracy: 0.9091 - 7ms/epoch - 7ms/step\n",
            "Epoch 127/200\n",
            "1/1 - 0s - loss: 0.4643 - accuracy: 0.9091 - 7ms/epoch - 7ms/step\n",
            "Epoch 128/200\n",
            "1/1 - 0s - loss: 0.4552 - accuracy: 0.9091 - 6ms/epoch - 6ms/step\n",
            "Epoch 129/200\n",
            "1/1 - 0s - loss: 0.4464 - accuracy: 0.9091 - 7ms/epoch - 7ms/step\n",
            "Epoch 130/200\n",
            "1/1 - 0s - loss: 0.4377 - accuracy: 0.9091 - 7ms/epoch - 7ms/step\n",
            "Epoch 131/200\n",
            "1/1 - 0s - loss: 0.4292 - accuracy: 0.9091 - 9ms/epoch - 9ms/step\n",
            "Epoch 132/200\n",
            "1/1 - 0s - loss: 0.4209 - accuracy: 0.9091 - 5ms/epoch - 5ms/step\n",
            "Epoch 133/200\n",
            "1/1 - 0s - loss: 0.4128 - accuracy: 0.9091 - 6ms/epoch - 6ms/step\n",
            "Epoch 134/200\n",
            "1/1 - 0s - loss: 0.4049 - accuracy: 0.9091 - 8ms/epoch - 8ms/step\n",
            "Epoch 135/200\n",
            "1/1 - 0s - loss: 0.3971 - accuracy: 0.9091 - 13ms/epoch - 13ms/step\n",
            "Epoch 136/200\n",
            "1/1 - 0s - loss: 0.3895 - accuracy: 0.9091 - 8ms/epoch - 8ms/step\n",
            "Epoch 137/200\n",
            "1/1 - 0s - loss: 0.3821 - accuracy: 0.9091 - 8ms/epoch - 8ms/step\n",
            "Epoch 138/200\n",
            "1/1 - 0s - loss: 0.3749 - accuracy: 1.0000 - 6ms/epoch - 6ms/step\n",
            "Epoch 139/200\n",
            "1/1 - 0s - loss: 0.3678 - accuracy: 1.0000 - 9ms/epoch - 9ms/step\n",
            "Epoch 140/200\n",
            "1/1 - 0s - loss: 0.3609 - accuracy: 1.0000 - 4ms/epoch - 4ms/step\n",
            "Epoch 141/200\n",
            "1/1 - 0s - loss: 0.3541 - accuracy: 1.0000 - 9ms/epoch - 9ms/step\n",
            "Epoch 142/200\n",
            "1/1 - 0s - loss: 0.3475 - accuracy: 1.0000 - 4ms/epoch - 4ms/step\n",
            "Epoch 143/200\n",
            "1/1 - 0s - loss: 0.3410 - accuracy: 1.0000 - 9ms/epoch - 9ms/step\n",
            "Epoch 144/200\n",
            "1/1 - 0s - loss: 0.3347 - accuracy: 1.0000 - 6ms/epoch - 6ms/step\n",
            "Epoch 145/200\n",
            "1/1 - 0s - loss: 0.3285 - accuracy: 1.0000 - 7ms/epoch - 7ms/step\n",
            "Epoch 146/200\n",
            "1/1 - 0s - loss: 0.3224 - accuracy: 1.0000 - 6ms/epoch - 6ms/step\n",
            "Epoch 147/200\n",
            "1/1 - 0s - loss: 0.3165 - accuracy: 1.0000 - 8ms/epoch - 8ms/step\n",
            "Epoch 148/200\n",
            "1/1 - 0s - loss: 0.3107 - accuracy: 1.0000 - 4ms/epoch - 4ms/step\n",
            "Epoch 149/200\n",
            "1/1 - 0s - loss: 0.3050 - accuracy: 1.0000 - 11ms/epoch - 11ms/step\n",
            "Epoch 150/200\n",
            "1/1 - 0s - loss: 0.2994 - accuracy: 1.0000 - 10ms/epoch - 10ms/step\n",
            "Epoch 151/200\n",
            "1/1 - 0s - loss: 0.2940 - accuracy: 1.0000 - 11ms/epoch - 11ms/step\n",
            "Epoch 152/200\n",
            "1/1 - 0s - loss: 0.2886 - accuracy: 1.0000 - 7ms/epoch - 7ms/step\n",
            "Epoch 153/200\n",
            "1/1 - 0s - loss: 0.2834 - accuracy: 1.0000 - 6ms/epoch - 6ms/step\n",
            "Epoch 154/200\n",
            "1/1 - 0s - loss: 0.2782 - accuracy: 1.0000 - 6ms/epoch - 6ms/step\n",
            "Epoch 155/200\n",
            "1/1 - 0s - loss: 0.2732 - accuracy: 1.0000 - 9ms/epoch - 9ms/step\n",
            "Epoch 156/200\n",
            "1/1 - 0s - loss: 0.2683 - accuracy: 1.0000 - 7ms/epoch - 7ms/step\n",
            "Epoch 157/200\n",
            "1/1 - 0s - loss: 0.2634 - accuracy: 1.0000 - 5ms/epoch - 5ms/step\n",
            "Epoch 158/200\n",
            "1/1 - 0s - loss: 0.2587 - accuracy: 1.0000 - 8ms/epoch - 8ms/step\n",
            "Epoch 159/200\n",
            "1/1 - 0s - loss: 0.2540 - accuracy: 1.0000 - 8ms/epoch - 8ms/step\n",
            "Epoch 160/200\n",
            "1/1 - 0s - loss: 0.2495 - accuracy: 1.0000 - 6ms/epoch - 6ms/step\n",
            "Epoch 161/200\n",
            "1/1 - 0s - loss: 0.2450 - accuracy: 1.0000 - 10ms/epoch - 10ms/step\n",
            "Epoch 162/200\n",
            "1/1 - 0s - loss: 0.2406 - accuracy: 1.0000 - 9ms/epoch - 9ms/step\n",
            "Epoch 163/200\n",
            "1/1 - 0s - loss: 0.2362 - accuracy: 1.0000 - 8ms/epoch - 8ms/step\n",
            "Epoch 164/200\n",
            "1/1 - 0s - loss: 0.2320 - accuracy: 1.0000 - 8ms/epoch - 8ms/step\n",
            "Epoch 165/200\n",
            "1/1 - 0s - loss: 0.2278 - accuracy: 1.0000 - 6ms/epoch - 6ms/step\n",
            "Epoch 166/200\n",
            "1/1 - 0s - loss: 0.2237 - accuracy: 1.0000 - 4ms/epoch - 4ms/step\n",
            "Epoch 167/200\n",
            "1/1 - 0s - loss: 0.2196 - accuracy: 1.0000 - 8ms/epoch - 8ms/step\n",
            "Epoch 168/200\n",
            "1/1 - 0s - loss: 0.2156 - accuracy: 1.0000 - 4ms/epoch - 4ms/step\n",
            "Epoch 169/200\n",
            "1/1 - 0s - loss: 0.2117 - accuracy: 1.0000 - 8ms/epoch - 8ms/step\n",
            "Epoch 170/200\n",
            "1/1 - 0s - loss: 0.2079 - accuracy: 1.0000 - 7ms/epoch - 7ms/step\n",
            "Epoch 171/200\n",
            "1/1 - 0s - loss: 0.2041 - accuracy: 1.0000 - 7ms/epoch - 7ms/step\n",
            "Epoch 172/200\n",
            "1/1 - 0s - loss: 0.2004 - accuracy: 1.0000 - 4ms/epoch - 4ms/step\n",
            "Epoch 173/200\n",
            "1/1 - 0s - loss: 0.1967 - accuracy: 1.0000 - 10ms/epoch - 10ms/step\n",
            "Epoch 174/200\n",
            "1/1 - 0s - loss: 0.1931 - accuracy: 1.0000 - 5ms/epoch - 5ms/step\n",
            "Epoch 175/200\n",
            "1/1 - 0s - loss: 0.1896 - accuracy: 1.0000 - 14ms/epoch - 14ms/step\n",
            "Epoch 176/200\n",
            "1/1 - 0s - loss: 0.1861 - accuracy: 1.0000 - 9ms/epoch - 9ms/step\n",
            "Epoch 177/200\n",
            "1/1 - 0s - loss: 0.1826 - accuracy: 1.0000 - 6ms/epoch - 6ms/step\n",
            "Epoch 178/200\n",
            "1/1 - 0s - loss: 0.1792 - accuracy: 1.0000 - 6ms/epoch - 6ms/step\n",
            "Epoch 179/200\n",
            "1/1 - 0s - loss: 0.1759 - accuracy: 1.0000 - 6ms/epoch - 6ms/step\n",
            "Epoch 180/200\n",
            "1/1 - 0s - loss: 0.1726 - accuracy: 1.0000 - 5ms/epoch - 5ms/step\n",
            "Epoch 181/200\n",
            "1/1 - 0s - loss: 0.1694 - accuracy: 1.0000 - 5ms/epoch - 5ms/step\n",
            "Epoch 182/200\n",
            "1/1 - 0s - loss: 0.1662 - accuracy: 1.0000 - 7ms/epoch - 7ms/step\n",
            "Epoch 183/200\n",
            "1/1 - 0s - loss: 0.1631 - accuracy: 1.0000 - 6ms/epoch - 6ms/step\n",
            "Epoch 184/200\n",
            "1/1 - 0s - loss: 0.1601 - accuracy: 1.0000 - 7ms/epoch - 7ms/step\n",
            "Epoch 185/200\n",
            "1/1 - 0s - loss: 0.1571 - accuracy: 1.0000 - 9ms/epoch - 9ms/step\n",
            "Epoch 186/200\n",
            "1/1 - 0s - loss: 0.1541 - accuracy: 1.0000 - 4ms/epoch - 4ms/step\n",
            "Epoch 187/200\n",
            "1/1 - 0s - loss: 0.1512 - accuracy: 1.0000 - 7ms/epoch - 7ms/step\n",
            "Epoch 188/200\n",
            "1/1 - 0s - loss: 0.1483 - accuracy: 1.0000 - 7ms/epoch - 7ms/step\n",
            "Epoch 189/200\n",
            "1/1 - 0s - loss: 0.1455 - accuracy: 1.0000 - 14ms/epoch - 14ms/step\n",
            "Epoch 190/200\n",
            "1/1 - 0s - loss: 0.1427 - accuracy: 1.0000 - 5ms/epoch - 5ms/step\n",
            "Epoch 191/200\n",
            "1/1 - 0s - loss: 0.1400 - accuracy: 1.0000 - 6ms/epoch - 6ms/step\n",
            "Epoch 192/200\n",
            "1/1 - 0s - loss: 0.1374 - accuracy: 1.0000 - 7ms/epoch - 7ms/step\n",
            "Epoch 193/200\n",
            "1/1 - 0s - loss: 0.1348 - accuracy: 1.0000 - 8ms/epoch - 8ms/step\n",
            "Epoch 194/200\n",
            "1/1 - 0s - loss: 0.1322 - accuracy: 1.0000 - 7ms/epoch - 7ms/step\n",
            "Epoch 195/200\n",
            "1/1 - 0s - loss: 0.1297 - accuracy: 1.0000 - 7ms/epoch - 7ms/step\n",
            "Epoch 196/200\n",
            "1/1 - 0s - loss: 0.1272 - accuracy: 1.0000 - 5ms/epoch - 5ms/step\n",
            "Epoch 197/200\n",
            "1/1 - 0s - loss: 0.1248 - accuracy: 1.0000 - 7ms/epoch - 7ms/step\n",
            "Epoch 198/200\n",
            "1/1 - 0s - loss: 0.1224 - accuracy: 1.0000 - 6ms/epoch - 6ms/step\n",
            "Epoch 199/200\n",
            "1/1 - 0s - loss: 0.1201 - accuracy: 1.0000 - 9ms/epoch - 9ms/step\n",
            "Epoch 200/200\n",
            "1/1 - 0s - loss: 0.1178 - accuracy: 1.0000 - 6ms/epoch - 6ms/step\n"
          ]
        },
        {
          "output_type": "execute_result",
          "data": {
            "text/plain": [
              "<keras.callbacks.History at 0x7fcfef2786d0>"
            ]
          },
          "metadata": {},
          "execution_count": 43
        }
      ]
    },
    {
      "cell_type": "code",
      "source": [
        "# 모델이 정확하게 예측하고 있는지 문장을 생성하는 함수\n",
        "def sentence_generation(model, tokenizer, current_word, n): # 모델, 토크나이저, 현재 단어, 반복할 횟수\n",
        "    init_word = current_word\n",
        "    sentence = ''\n",
        "\n",
        "    # n번 반복\n",
        "    for _ in range(n):\n",
        "        # 현재 단어에 대한 정수 인코딩과 패딩\n",
        "        encoded = tokenizer.texts_to_sequences([current_word])[0]\n",
        "        encoded = pad_sequences([encoded], maxlen=5, padding='pre')\n",
        "        # 입력한 X(현재 단어)에 대해서 Y를 예측하고 Y(예측한 단어)를 result에 저장.\n",
        "        result = model.predict(encoded, verbose=0)\n",
        "        result = np.argmax(result, axis=1)\n",
        "\n",
        "        for word, index in tokenizer.word_index.items(): \n",
        "            # 만약 예측한 단어와 인덱스와 동일한 단어가 있다면 break\n",
        "            if index == result:\n",
        "                break\n",
        "\n",
        "        # 현재 단어 + ' ' + 예측 단어를 현재 단어로 변경\n",
        "        current_word = current_word + ' '  + word\n",
        "\n",
        "        # 예측 단어를 문장에 저장\n",
        "        sentence = sentence + ' ' + word\n",
        "\n",
        "    sentence = init_word + sentence\n",
        "    return sentence"
      ],
      "metadata": {
        "id": "6RaDGRlVJyjg"
      },
      "execution_count": 49,
      "outputs": []
    },
    {
      "cell_type": "code",
      "source": [
        "print(sentence_generation(model, tokenizer, \"경마장에\", 4))"
      ],
      "metadata": {
        "colab": {
          "base_uri": "https://localhost:8080/"
        },
        "id": "x9KLpfOuK0mn",
        "outputId": "3f1eeb1d-00c7-48aa-d3d8-6d557cbeeb3d"
      },
      "execution_count": 50,
      "outputs": [
        {
          "output_type": "stream",
          "name": "stdout",
          "text": [
            "경마장에 있는 말이 뛰고 있다\n"
          ]
        }
      ]
    },
    {
      "cell_type": "code",
      "source": [
        "print(sentence_generation(model, tokenizer, '그의', 2))"
      ],
      "metadata": {
        "colab": {
          "base_uri": "https://localhost:8080/"
        },
        "id": "KprzdLNVK766",
        "outputId": "da921084-bb1a-4627-b405-1221a8f7cf49"
      },
      "execution_count": 51,
      "outputs": [
        {
          "output_type": "stream",
          "name": "stdout",
          "text": [
            "그의 말이 법이다\n"
          ]
        }
      ]
    },
    {
      "cell_type": "code",
      "source": [
        "print(sentence_generation(model, tokenizer, '가는', 5))"
      ],
      "metadata": {
        "colab": {
          "base_uri": "https://localhost:8080/"
        },
        "id": "C8KOi1ocLBQ7",
        "outputId": "89776382-fb3d-4855-df60-e96f79029311"
      },
      "execution_count": 52,
      "outputs": [
        {
          "output_type": "stream",
          "name": "stdout",
          "text": [
            "가는 말이 고와야 오는 말이 곱다\n"
          ]
        }
      ]
    },
    {
      "cell_type": "code",
      "source": [
        ""
      ],
      "metadata": {
        "id": "Md_B_Q80LD1T"
      },
      "execution_count": null,
      "outputs": []
    }
  ]
}